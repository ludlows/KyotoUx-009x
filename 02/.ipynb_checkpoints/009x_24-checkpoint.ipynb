{
 "cells": [
  {
   "cell_type": "markdown",
   "metadata": {
    "slideshow": {
     "slide_type": "slide"
    }
   },
   "source": [
    "# Stochastic Processes: <br>Data Analysis and Computer Simulation\n",
    "<br>\n",
    "\n",
    "\n",
    "# Distribution function and random number\n",
    "<br>\n",
    "\n",
    "\n",
    "# 4. Random walk\n",
    "<br>"
   ]
  },
  {
   "cell_type": "markdown",
   "metadata": {
    "slideshow": {
     "slide_type": "slide"
    }
   },
   "source": [
    "# 4.1. The model system (1D random walk)\n",
    "\n",
    "![](fig/random_walk.png)\n",
    "\n"
   ]
  },
  {
   "cell_type": "markdown",
   "metadata": {
    "slideshow": {
     "slide_type": "slide"
    }
   },
   "source": [
    "# 4.2. As binomial distribution\n",
    "\n",
    "- The total number of steps to the right: $n_+$\n",
    "- The total number of steps to the left: $n_-$\n",
    "- The total number of steps: $m=n_+ + n_-$\n",
    "- The current location: $l=n_+ - n_-$\n",
    "\n",
    "\\begin{equation}\n",
    "\\therefore \\ \\ \\ n_+=\\frac{m+l}{2}, \\ \\ \\ \\ \\ \\ n_-=\\frac{m-l}{2}\\tag{E1}\n",
    "\\end{equation}\n",
    "\n",
    "\\begin{equation}\n",
    "%\\tilde\n",
    "{P}(l,m)\\rightarrow P_{\\rm Binomial}(n_+;m)\n",
    "%\\frac{dn_+}{dl}\n",
    "=P_{\\rm Binomial}(n_-;m)\n",
    "%\\frac{dn_-}{dl}\n",
    "\\tag{E2}\n",
    "\\end{equation}\n",
    "\n",
    "\\begin{equation}\n",
    "\\hspace{20mm}\n",
    "=\n",
    "%\\frac{1}{2}\n",
    "\\frac{m!}{n_+!(m-n_+)!}{{p}^{n_+}}{{(1-p)}^{m-n_+}}\\tag{E3}\n",
    "\\end{equation}"
   ]
  },
  {
   "cell_type": "markdown",
   "metadata": {
    "slideshow": {
     "slide_type": "slide"
    }
   },
   "source": [
    "# 4.3. As normal distribution (for $n_+,m\\gg 1$)\n",
    "\\begin{equation}\n",
    "P_{\\rm Binomial}(n_+;m)\n",
    "%\\xrightarrow[n_+\\to cont.]{n_+,m\\gg 1}\\ \n",
    "\\simeq\n",
    "\\frac{1}{\\sqrt{2\\pi {{\\sigma'}^{2}}}}\\exp \\left[ -\\frac{{{(n_+-{{\\mu' }_{1}})}^{2}}}{2{{\\sigma' }^{2}}} \\right]\\tag{E4}\n",
    "\\end{equation}\n",
    "\n",
    "\\begin{equation}\n",
    "{\\rm with}\\hspace{5mm}\n",
    "\\mu_1'=\\langle n_+\\rangle=mp,\\ \\ \\ \n",
    "\\sigma'^2=\\langle n_+^2\\rangle - \\langle n_+\\rangle^2=mp(1-p) \\tag{E5, E6}\n",
    "\\end{equation}\n",
    "Recall that $n_+=(m+l)~/~2$\n",
    "\\begin{equation}\n",
    "P_{\\rm Binomial}(n_+;m)\n",
    "%\\rightarrow\\frac{1}{\\sqrt{2\\pi mp(1-p)}}\n",
    "\\simeq\\exp \\left[ -\\frac{{{(l-{m(2p-1)})}^{2}}}{8mp(1-p)} \\right]\\tag{E7}\n",
    "\\end{equation}\n",
    "\n",
    "\\begin{equation}\n",
    "\\therefore \\ \\ \n",
    "%\\tilde\n",
    "{P}(l,m)= P_{\\rm Binomial}(n_+;m)\\frac{dn_+}{dl}\n",
    "= P_{\\rm Binomial}(n_+;m)\\frac{1}{2}\\tag{E8}\n",
    "\\end{equation}\n",
    "\n",
    "\\begin{equation}\n",
    "\\simeq\\frac{1}{\\sqrt{2\\pi \\sigma''^2}}\n",
    "\\exp \\left[ -\\frac{{{(l-{\\mu''_1})}^{2}}}{2\\sigma''^2} \\right]\\tag{E9}\n",
    "\\end{equation}\n",
    "\n",
    "\\begin{equation}\n",
    "%\\hspace{20mm}\n",
    "{\\rm with}\\hspace{5mm}\n",
    "\\mu''_1=\\langle l\\rangle=m(2p-1),\\ \\ \\ \n",
    "\\sigma''^2=\\langle l^2\\rangle - \\langle l\\rangle^2=4mp(1-p) \\tag{E10, E11}\n",
    "\\end{equation}"
   ]
  },
  {
   "cell_type": "markdown",
   "metadata": {
    "slideshow": {
     "slide_type": "slide"
    }
   },
   "source": [
    "# 4.4. By computer simulation"
   ]
  },
  {
   "cell_type": "code",
   "execution_count": 1,
   "metadata": {
    "collapsed": true
   },
   "outputs": [],
   "source": [
    "% matplotlib inline\n",
    "import numpy as np # import numpy library as np\n",
    "import math # use mathematical functions defined by the C standard\n",
    "import matplotlib.pyplot as plt # import pyplot library as plt \n",
    "plt.style.use('ggplot') # use \"ggplot\" style for graphs"
   ]
  },
  {
   "cell_type": "code",
   "execution_count": 2,
   "metadata": {
    "collapsed": false,
    "slideshow": {
     "slide_type": "slide"
    }
   },
   "outputs": [
    {
     "name": "stdout",
     "output_type": "stream",
     "text": [
      "p = 0.5 M = 1000\n"
     ]
    },
    {
     "data": {
      "image/png": "[encoded data removed]",
      "text/plain": [
       "<matplotlib.figure.Figure at 0x104952438>"
      ]
     },
     "metadata": {},
     "output_type": "display_data"
    }
   ],
   "source": [
    "p = 0.5 # set p, propability to take a step to the right\n",
    "M = 1000 # M = number of total steps\n",
    "N = 100000 # N = number of independent random walkers\n",
    "ave = M*(2*p-1) # average of the location L after M steps Eq.(E10)\n",
    "std = np.sqrt(4*M*p*(1-p)) # standard deviation of L after M steps Eq.(E11)\n",
    "print('p =',p,'M =',M)\n",
    "L = np.zeros(N)\n",
    "np.random.seed(0) # initialize the random number generator with seed=0\n",
    "for i in range(N): # repeat independent random walks N times\n",
    "    step=np.random.choice([-1,1],M) # generate random sampling from -1 or +1 M times and store them as step\n",
    "    L[i]=np.sum(step) # calculate l after making M random steps and store it as L\n",
    "nmin=np.int(ave-std*5)\n",
    "nmax=np.int(ave+std*5)\n",
    "nbin=np.int((nmax-nmin)/4)\n",
    "plt.hist(L,range=[nmin,nmax],bins=nbin,normed=True) # plot normalized histogram of L\n",
    "x = np.arange(nmin,nmax,0.01/std) # create array of x from nmin to nmax with increment 0.01/std\n",
    "y = np.exp(-(x-ave)**2/(2*std**2))/np.sqrt(2*np.pi*std**2) # calculate the theoretical distribution Eq.(E9)\n",
    "plt.plot(x,y,lw=2,color='b') # plot y vs. x with blue line\n",
    "plt.xlabel(r'$l$',fontsize=16) # set x-label\n",
    "plt.ylabel(r'$P(l,m)$',fontsize=16) # set y-label\n",
    "plt.legend([r'Gauss',r'histogram'], fontsize=16) # set legends\n",
    "plt.xlim(ave-250,ave+250) # set x-range\n",
    "plt.show() # display plots"
   ]
  },
  {
   "cell_type": "code",
   "execution_count": 2,
   "metadata": {
    "collapsed": false
   },
   "outputs": [
    {
     "name": "stdout",
     "output_type": "stream",
     "text": [
      "p = 0.5 M = 100\n"
     ]
    },
    {
     "data": {
      "image/png": "[encoded data removed]",
      "text/plain": [
       "<matplotlib.figure.Figure at 0x87438d0>"
      ]
     },
     "metadata": {},
     "output_type": "display_data"
    }
   ],
   "source": [
    "p = 0.5 # set p, propability to take a step to the right\n",
    "M = 100 # M = number of total steps\n",
    "N = 100000 # N = number of independent random walkers\n",
    "ave = M*(2*p-1) # average of the location L after M steps Eq.(E10)\n",
    "std = np.sqrt(4*M*p*(1-p)) # standard deviation of L after M steps Eq.(E11)\n",
    "print('p =',p,'M =',M)\n",
    "L = np.zeros(N)\n",
    "np.random.seed(0) # initialize the random number generator with seed=0\n",
    "for i in range(N): # repeat independent random walks N times\n",
    "    step=np.random.choice([-1,1],M) # generate random sampling from -1 or +1 M times and store them as step\n",
    "    L[i]=np.sum(step) # calculate l after making M random steps and store it as L\n",
    "nmin=np.int(ave-std*5)\n",
    "nmax=np.int(ave+std*5)\n",
    "nbin=np.int((nmax-nmin)/4)\n",
    "plt.hist(L,range=[nmin,nmax],bins=nbin,normed=True) # plot normalized histogram of L\n",
    "x = np.arange(nmin,nmax,0.01/std) # create array of x from nmin to nmax with increment 0.01/std\n",
    "y = np.exp(-(x-ave)**2/(2*std**2))/np.sqrt(2*np.pi*std**2) # calculate the theoretical distribution Eq.(E9)\n",
    "plt.plot(x,y,lw=2,color='b') # plot y vs. x with blue line\n",
    "plt.xlabel(r'$l$',fontsize=16) # set x-label\n",
    "plt.ylabel(r'$P(l,m)$',fontsize=16) # set y-label\n",
    "plt.legend([r'Gauss',r'histogram'], fontsize=16) # set legends\n",
    "plt.xlim(ave-250,ave+250) # set x-range\n",
    "plt.show() # display plots"
   ]
  },
  {
   "cell_type": "code",
   "execution_count": 3,
   "metadata": {
    "collapsed": false
   },
   "outputs": [
    {
     "data": {
      "text/plain": [
       "5.0"
      ]
     },
     "execution_count": 3,
     "metadata": {},
     "output_type": "execute_result"
    }
   ],
   "source": [
    "np.float(5)"
   ]
  },
  {
   "cell_type": "code",
   "execution_count": 4,
   "metadata": {
    "collapsed": true
   },
   "outputs": [],
   "source": [
    "# c14\n",
    "def rng(seed, a, b, M, ntotal):\n",
    "    data = np.zeros(ntotal)\n",
    "    data[0] = seed\n",
    "    for i in range(0,ntotal):\n",
    "        data[i+1] = np.mod((a*data[i]+b), M)\n",
    "    return data/np.float(M)"
   ]
  },
  {
   "cell_type": "code",
   "execution_count": 5,
   "metadata": {
    "collapsed": false
   },
   "outputs": [
    {
     "ename": "IndexError",
     "evalue": "index 400 is out of bounds for axis 0 with size 400",
     "output_type": "error",
     "traceback": [
      "\u001b[1;31m---------------------------------------------------------------------------\u001b[0m",
      "\u001b[1;31mIndexError\u001b[0m                                Traceback (most recent call last)",
      "\u001b[1;32m<ipython-input-5-c29d6a7b5674>\u001b[0m in \u001b[0;36m<module>\u001b[1;34m()\u001b[0m\n\u001b[1;32m----> 1\u001b[1;33m \u001b[0mrng\u001b[0m\u001b[1;33m(\u001b[0m\u001b[1;36m20\u001b[0m\u001b[1;33m,\u001b[0m \u001b[1;36m100\u001b[0m\u001b[1;33m,\u001b[0m \u001b[1;36m30\u001b[0m\u001b[1;33m,\u001b[0m \u001b[1;36m200\u001b[0m\u001b[1;33m,\u001b[0m \u001b[1;36m400\u001b[0m\u001b[1;33m)\u001b[0m\u001b[1;33m\u001b[0m\u001b[0m\n\u001b[0m",
      "\u001b[1;32m<ipython-input-4-0b8b5d028a3f>\u001b[0m in \u001b[0;36mrng\u001b[1;34m(seed, a, b, M, ntotal)\u001b[0m\n\u001b[0;32m      4\u001b[0m     \u001b[0mdata\u001b[0m\u001b[1;33m[\u001b[0m\u001b[1;36m0\u001b[0m\u001b[1;33m]\u001b[0m \u001b[1;33m=\u001b[0m \u001b[0mseed\u001b[0m\u001b[1;33m\u001b[0m\u001b[0m\n\u001b[0;32m      5\u001b[0m     \u001b[1;32mfor\u001b[0m \u001b[0mi\u001b[0m \u001b[1;32min\u001b[0m \u001b[0mrange\u001b[0m\u001b[1;33m(\u001b[0m\u001b[1;36m0\u001b[0m\u001b[1;33m,\u001b[0m\u001b[0mntotal\u001b[0m\u001b[1;33m)\u001b[0m\u001b[1;33m:\u001b[0m\u001b[1;33m\u001b[0m\u001b[0m\n\u001b[1;32m----> 6\u001b[1;33m         \u001b[0mdata\u001b[0m\u001b[1;33m[\u001b[0m\u001b[0mi\u001b[0m\u001b[1;33m+\u001b[0m\u001b[1;36m1\u001b[0m\u001b[1;33m]\u001b[0m \u001b[1;33m=\u001b[0m \u001b[0mnp\u001b[0m\u001b[1;33m.\u001b[0m\u001b[0mmod\u001b[0m\u001b[1;33m(\u001b[0m\u001b[1;33m(\u001b[0m\u001b[0ma\u001b[0m\u001b[1;33m*\u001b[0m\u001b[0mdata\u001b[0m\u001b[1;33m[\u001b[0m\u001b[0mi\u001b[0m\u001b[1;33m]\u001b[0m\u001b[1;33m+\u001b[0m\u001b[0mb\u001b[0m\u001b[1;33m)\u001b[0m\u001b[1;33m,\u001b[0m \u001b[0mM\u001b[0m\u001b[1;33m)\u001b[0m\u001b[1;33m\u001b[0m\u001b[0m\n\u001b[0m\u001b[0;32m      7\u001b[0m     \u001b[1;32mreturn\u001b[0m \u001b[0mdata\u001b[0m\u001b[1;33m/\u001b[0m\u001b[0mnp\u001b[0m\u001b[1;33m.\u001b[0m\u001b[0mfloat\u001b[0m\u001b[1;33m(\u001b[0m\u001b[0mM\u001b[0m\u001b[1;33m)\u001b[0m\u001b[1;33m\u001b[0m\u001b[0m\n",
      "\u001b[1;31mIndexError\u001b[0m: index 400 is out of bounds for axis 0 with size 400"
     ]
    }
   ],
   "source": [
    "rng(20, 100, 30, 200, 400)"
   ]
  },
  {
   "cell_type": "code",
   "execution_count": 6,
   "metadata": {
    "collapsed": true
   },
   "outputs": [],
   "source": [
    "def rng(seed, a, b, M, ntotal):\n",
    "    data = np.zeros(ntotal)\n",
    "    data[0] = seed\n",
    "    for i in range(1,ntotal):\n",
    "        data[i] = np.mod((a*data[i-1]+b), M)\n",
    "    return data/np.float(M)"
   ]
  },
  {
   "cell_type": "code",
   "execution_count": 7,
   "metadata": {
    "collapsed": true
   },
   "outputs": [],
   "source": [
    "a = 8121\n",
    "b = 28411\n",
    "M = 134456\n",
    "seed = 123456\n",
    "ntotal = 500000\n",
    "val = rng(seed, a, b, M, ntotal)"
   ]
  },
  {
   "cell_type": "code",
   "execution_count": 10,
   "metadata": {
    "collapsed": false,
    "scrolled": true
   },
   "outputs": [
    {
     "data": {
      "image/png": "[encoded data removed]",
      "text/plain": [
       "<matplotlib.figure.Figure at 0x8b0de48>"
      ]
     },
     "metadata": {},
     "output_type": "display_data"
    }
   ],
   "source": [
    "plt.hist(val, bins=100)\n",
    "plt.show()"
   ]
  },
  {
   "cell_type": "code",
   "execution_count": 13,
   "metadata": {
    "collapsed": true
   },
   "outputs": [],
   "source": [
    "# np.correlate?\n",
    "# Signature: np.correlate(a, v, mode='valid')\n",
    "# Docstring:\n",
    "# Cross-correlation of two 1-dimensional sequences.\n",
    "\n",
    "# This function computes the correlation as generally defined in signal\n",
    "# processing texts::\n",
    "\n",
    "#     c_{av}[k] = sum_n a[n+k] * conj(v[n])\n",
    "\n",
    "# with a and v sequences being zero-padded where necessary and conj being\n",
    "# the conjugate.\n",
    "\n",
    "# Parameters\n",
    "# ----------\n",
    "# a, v : array_like\n",
    "#     Input sequences.\n",
    "# mode : {'valid', 'same', 'full'}, optional\n",
    "#     Refer to the `convolve` docstring.  Note that the default\n",
    "#     is 'valid', unlike `convolve`, which uses 'full'.\n",
    "# old_behavior : bool\n",
    "#     `old_behavior` was removed in NumPy 1.10. If you need the old\n",
    "#     behavior, use `multiarray.correlate`.\n",
    "\n",
    "# Returns\n",
    "# -------\n",
    "# out : ndarray\n",
    "#     Discrete cross-correlation of `a` and `v`.\n",
    "\n",
    "# See Also\n",
    "# --------\n",
    "# convolve : Discrete, linear convolution of two one-dimensional sequences.\n",
    "# multiarray.correlate : Old, no conjugate, version of correlate.\n",
    "\n",
    "# Notes\n",
    "# -----\n",
    "# The definition of correlation above is not unique and sometimes correlation\n",
    "# may be defined differently. Another common definition is::\n",
    "\n",
    "#     c'_{av}[k] = sum_n a[n] conj(v[n+k])\n",
    "\n",
    "# which is related to ``c_{av}[k]`` by ``c'_{av}[k] = c_{av}[-k]``.\n",
    "\n",
    "# Examples\n",
    "# --------\n",
    "# >>> np.correlate([1, 2, 3], [0, 1, 0.5])\n",
    "# array([ 3.5])\n",
    "# >>> np.correlate([1, 2, 3], [0, 1, 0.5], \"same\")\n",
    "# array([ 2. ,  3.5,  3. ])\n",
    "# >>> np.correlate([1, 2, 3], [0, 1, 0.5], \"full\")\n",
    "# array([ 0.5,  2. ,  3.5,  3. ,  0. ])\n",
    "\n",
    "# Using complex sequences:\n",
    "\n",
    "# >>> np.correlate([1+1j, 2, 3-1j], [0, 1, 0.5j], 'full')\n",
    "# array([ 0.5-0.5j,  1.0+0.j ,  1.5-1.5j,  3.0-1.j ,  0.0+0.j ])\n",
    "\n",
    "# Note that you get the time reversed, complex conjugated result\n",
    "# when the two input sequences change places, i.e.,\n",
    "# ``c_{va}[k] = c^{*}_{av}[-k]``:\n",
    "\n",
    "# >>> np.correlate([0, 1, 0.5j], [1+1j, 2, 3-1j], 'full')\n",
    "# array([ 0.0+0.j ,  3.0+1.j ,  1.5+1.5j,  1.0+0.j ,  0.5+0.5j])\n",
    "# File:      c:\\anaconda3\\lib\\site-packages\\numpy\\core\\numeric.py\n",
    "# Type:      function"
   ]
  },
  {
   "cell_type": "code",
   "execution_count": null,
   "metadata": {
    "collapsed": true
   },
   "outputs": [],
   "source": [
    "new_val = np.copy(val)\n",
    "mu = np.mean(new_val)\n",
    "new_val = new_val - mu\n",
    "val_sigma = np.std(new_val)**2\n",
    "val_cor = np.correlate(new_val,new_val, mode='full')\n",
    "v = val_cor / val_sigma\n",
    "plt.plot(v[:8000])\n",
    "plt.show()"
   ]
  },
  {
   "cell_type": "code",
   "execution_count": 12,
   "metadata": {
    "collapsed": false
   },
   "outputs": [
    {
     "data": {
      "text/plain": [
       "-1.4867195147342977e-06"
      ]
     },
     "execution_count": 12,
     "metadata": {},
     "output_type": "execute_result"
    }
   ],
   "source": [
    "sigma = 1.0\n",
    "-1.0/np.sqrt(2*np.pi*sigma**2)*np.exp(-25/2)"
   ]
  },
  {
   "cell_type": "markdown",
   "metadata": {
    "slideshow": {
     "slide_type": "notes"
    }
   },
   "source": [
    "- You may repeat the same simulation by choosing different values of total steps, for example $M=100$, $1,000$, $10,000$, and $100,000$ to see how the distribution changes with the total number of steps."
   ]
  },
  {
   "cell_type": "markdown",
   "metadata": {
    "slideshow": {
     "slide_type": "slide"
    }
   },
   "source": [
    "# 4.5. Connection with the diffusion constant $D$\n",
    "\n",
    "## $P(x,t)$ from random walk\n",
    "\n",
    "- Define $a$ as the length of a single step and $t_s$ as the time between subsequent steps.\n",
    "- Define $x=al$ as the position of the random walker and $t=t_s m$ as the duration of time needed to take $m$ steps.\n",
    "- Here we consider a drift free case $p=0.5$, i.e., $\\mu_1=\\langle l\\rangle=m(2p-1)=0$.\n",
    "\n",
    "\\begin{equation}\n",
    "P(x,t)=P(l,m)\\frac{dl}{dx}=P(l,m)\\frac{1}{a}\n",
    "\\tag{E12}\n",
    "\\end{equation}\n",
    "\n",
    "\\begin{equation}\n",
    "%P_{\\rm Binomial}(n_+;m)\\rightarrow\n",
    "=\\frac{1}{a\\sqrt{8\\pi mp(1-p)}}\n",
    "\\exp \\left[ -\\frac{{l^2}}{8mp(1-p)} \\right]\\tag{E13}\n",
    "\\end{equation}\n",
    "\n",
    "\\begin{equation}\n",
    "%P_{\\rm Binomial}(n_+;m)\\rightarrow\n",
    "=\\frac{1}{\\sqrt{8\\pi a^2 p(1-p)t/t_s}}\n",
    "\\exp \\left[ -\\frac{{x^2}}{8a^2p(1-p)t/t_s} \\right]\\tag{E14}\n",
    "\\end{equation}\n",
    "\n",
    "\n",
    "\\begin{equation}\n",
    "\\hspace{-10mm}\n",
    "{\\rm with}\\hspace{5mm}\n",
    "\\mu_1=\\langle x\\rangle=0,\\ \\  \n",
    "\\sigma^2=\\langle x^2\\rangle - \\langle x\\rangle^2=4a^2p(1-p)t/t_s \\tag{E15, E16}\n",
    "\\end{equation}"
   ]
  },
  {
   "cell_type": "markdown",
   "metadata": {
    "slideshow": {
     "slide_type": "slide"
    }
   },
   "source": [
    "## $P(x,t)$ from the diffusion equation\n",
    "\n",
    "- Consier the 1-D diffusion equation with diffusion constant $D$ \n",
    "\\begin{equation}\n",
    "\\frac{\\partial}{\\partial t} P(x,t)=D\\frac{\\partial ^2}{\\partial x^2} P(x,t)\n",
    "\\tag{E17}\n",
    "\\end{equation}\n",
    "\\begin{equation}\n",
    "{\\rm with}\\hspace{5mm}P(x,t=0)=\\delta(x)\n",
    "\\tag{E18}\n",
    "\\end{equation}\n",
    "- The solution is given by\n",
    "\\begin{equation}\n",
    "P(x,t)=\\frac{1}{\\sqrt{4\\pi Dt}}\n",
    "\\exp \\left[ -\\frac{{{x^2}}}{4Dt} \\right]\\tag{E19}\n",
    "\\end{equation}\n",
    "- By comparing Eqs.(E14) and (E19) we can relate the diffusion constant $D$ to the variance of the position of random walkers\n",
    "\\begin{equation}\n",
    "D=\\frac{2a^2p(1-p)}{t_s}=\\frac{\\sigma^2}{2t}\\tag{E20}\n",
    "\\end{equation}\n",
    "- In this case, $\\sigma^2$ is also referred to as the mean-square displacement"
   ]
  }
 ],
 "metadata": {
  "anaconda-cloud": {},
  "celltoolbar": "Slideshow",
  "kernelspec": {
   "display_name": "Python 3",
   "language": "python",
   "name": "python3"
  },
  "language_info": {
   "codemirror_mode": {
    "name": "ipython",
    "version": 3
   },
   "file_extension": ".py",
   "mimetype": "text/x-python",
   "name": "python",
   "nbconvert_exporter": "python",
   "pygments_lexer": "ipython3",
   "version": "3.5.2"
  }
 },
 "nbformat": 4,
 "nbformat_minor": 0
}
